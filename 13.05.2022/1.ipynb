{
  "nbformat": 4,
  "nbformat_minor": 0,
  "metadata": {
    "colab": {
      "name": "1.ipynb",
      "provenance": [],
      "authorship_tag": "ABX9TyMcsO5I5UYXt12jTP3W/h/G",
      "include_colab_link": true
    },
    "kernelspec": {
      "name": "python3",
      "display_name": "Python 3"
    },
    "language_info": {
      "name": "python"
    }
  },
  "cells": [
    {
      "cell_type": "markdown",
      "metadata": {
        "id": "view-in-github",
        "colab_type": "text"
      },
      "source": [
        "<a href=\"https://colab.research.google.com/github/Lliriamus/Directory/blob/main/13.05.2022/1.ipynb\" target=\"_parent\"><img src=\"https://colab.research.google.com/assets/colab-badge.svg\" alt=\"Open In Colab\"/></a>"
      ]
    },
    {
      "cell_type": "code",
      "execution_count": 34,
      "metadata": {
        "colab": {
          "base_uri": "https://localhost:8080/"
        },
        "id": "79pKpN-eOSBn",
        "outputId": "f6de70f0-d995-4cc8-f2a7-77519fee5706"
      },
      "outputs": [
        {
          "output_type": "stream",
          "name": "stdout",
          "text": [
            "1 2 3 4 5 6 7 8 9\n",
            "['2', '3'] ['4']\n",
            "['3'] ['4', '5']\n",
            "[] ['4', '5', '6']\n",
            "['5', '6'] ['7']\n",
            "['6'] ['7', '8']\n",
            "[] ['7', '8', '9']\n"
          ]
        }
      ],
      "source": [
        "L = input().split()\n",
        "k = int(input())\n",
        "A, B = [], []\n",
        "for i in range(k):\n",
        "  A.append(L[i])\n",
        "for i in range(k, len(L)):\n",
        "  if not B:\n",
        "    while A:\n",
        "      B.append(A.pop())\n",
        "    B.pop()\n",
        "    A.append(L[i])\n",
        "  else:\n",
        "    B.pop()\n",
        "    A.append(L[i])\n",
        "  print(B[::-1], A)"
      ]
    }
  ]
}