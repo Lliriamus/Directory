{
  "nbformat": 4,
  "nbformat_minor": 0,
  "metadata": {
    "colab": {
      "name": "Personal№6.ipynb",
      "provenance": [],
      "authorship_tag": "ABX9TyMYmvnltZL8gtH1u/Vs+pRG",
      "include_colab_link": true
    },
    "kernelspec": {
      "name": "python3",
      "display_name": "Python 3"
    },
    "language_info": {
      "name": "python"
    }
  },
  "cells": [
    {
      "cell_type": "markdown",
      "metadata": {
        "id": "view-in-github",
        "colab_type": "text"
      },
      "source": [
        "<a href=\"https://colab.research.google.com/github/Lliriamus/Directory/blob/main/Personal%E2%84%966.ipynb\" target=\"_parent\"><img src=\"https://colab.research.google.com/assets/colab-badge.svg\" alt=\"Open In Colab\"/></a>"
      ]
    },
    {
      "cell_type": "markdown",
      "source": [
        "# Доделать"
      ],
      "metadata": {
        "id": "McAvmF8cOF4w"
      }
    },
    {
      "cell_type": "code",
      "execution_count": null,
      "metadata": {
        "id": "moTmwcZG1A4t"
      },
      "outputs": [],
      "source": [
        "import matplotlib.pyplot as plt\n",
        "import numpy as np"
      ]
    },
    {
      "cell_type": "markdown",
      "source": [
        "Рассмотрим функцию"
      ],
      "metadata": {
        "id": "q-I4_hbI3g_A"
      }
    },
    {
      "cell_type": "code",
      "source": [
        "def F(x):\n",
        "  return 10*x /(1+x**2)"
      ],
      "metadata": {
        "id": "o7A7_OGh3m9N"
      },
      "execution_count": null,
      "outputs": []
    },
    {
      "cell_type": "markdown",
      "source": [
        "Создадим переменные x и y"
      ],
      "metadata": {
        "id": "ivse6jlb5Ab_"
      }
    },
    {
      "cell_type": "code",
      "source": [
        "a = 0\n",
        "b = 3\n",
        "x = np.linspace(a, b,1000000)\n",
        "y = F(x)"
      ],
      "metadata": {
        "id": "lbKE0fGA38v1"
      },
      "execution_count": 70,
      "outputs": []
    },
    {
      "cell_type": "markdown",
      "source": [
        "Построим график функции"
      ],
      "metadata": {
        "id": "sCzZqZAs5GSV"
      }
    },
    {
      "cell_type": "code",
      "source": [
        "fig = plt.figure()\n",
        "ax = fig.add_subplot(1, 1, 1)\n",
        "ax.plot(x, y, color ='black')\n",
        "plt.show()"
      ],
      "metadata": {
        "colab": {
          "base_uri": "https://localhost:8080/",
          "height": 265
        },
        "id": "n-xCrXGM5GuV",
        "outputId": "602f1f6f-1afe-49cf-c09a-dbad7a6494f1"
      },
      "execution_count": 71,
      "outputs": [
        {
          "output_type": "display_data",
          "data": {
            "text/plain": [
              "<Figure size 432x288 with 1 Axes>"
            ],
            "image/png": "[encoded data removed]"
          },
          "metadata": {
            "needs_background": "light"
          }
        }
      ]
    },
    {
      "cell_type": "markdown",
      "source": [
        "Найдём наибольшее и наименьшее значение функции на отрезке [0, 3]"
      ],
      "metadata": {
        "id": "Op4vsjGQ6fx5"
      }
    },
    {
      "cell_type": "code",
      "source": [
        "Max = max(y)\n",
        "Min = min(y)\n",
        "print(' Наибольшее y =', Max, '\\n', 'Наименьшее y = ', Min)"
      ],
      "metadata": {
        "colab": {
          "base_uri": "https://localhost:8080/"
        },
        "id": "0CnylkwI7K8R",
        "outputId": "65d4d619-1252-4496-ebc3-5607bd96917d"
      },
      "execution_count": 72,
      "outputs": [
        {
          "output_type": "stream",
          "name": "stdout",
          "text": [
            " Наибольшее y = 5.0 \n",
            " Наименьшее y =  0.0\n"
          ]
        }
      ]
    },
    {
      "cell_type": "code",
      "source": [
        "a = 0\n",
        "b = 3\n",
        "d_x = 0.1\n",
        "x1 = (a + b - d_x) / 2\n",
        "x2 = (a + b + d_x) / 2\n",
        "eps = 0.07\n",
        "while(b-a)/2 > eps:\n",
        "  if F(x1) <= F(x2):\n",
        "    a = x1\n",
        "    x1 = (a+b-d_x)/2\n",
        "    x2 = (a+b+d_x)/2\n",
        "  else:\n",
        "    b = x2\n",
        "    x1 = (a+b-d_x)/2\n",
        "    x2 = (a+b+d_x)/2\n",
        "print('Точка мксимума = ', (a+b)/2, '| Её значение = ', F((a+b)/2))"
      ],
      "metadata": {
        "colab": {
          "base_uri": "https://localhost:8080/"
        },
        "id": "iLADuf8JBFuC",
        "outputId": "0a09b59c-953e-4cda-e325-47cf06dd3541"
      },
      "execution_count": 76,
      "outputs": [
        {
          "output_type": "stream",
          "name": "stdout",
          "text": [
            "Точка мксимума =  0.990234375 | Её значение =  4.999759241746325\n"
          ]
        }
      ]
    },
    {
      "cell_type": "code",
      "source": [
        "a = 0\n",
        "b = 3\n",
        "d_x = 0.1\n",
        "x1 = (a + b - d_x) / 2\n",
        "x2 = (a + b + d_x) / 2\n",
        "eps = 0.07\n",
        "while(b-a)/2 > eps:\n",
        "  if F(x1) >= F(x2):\n",
        "    b = x2\n",
        "    x1 = (a+b-d_x)/2\n",
        "    x2 = (a+b+d_x)/2\n",
        "  else:\n",
        "    a = x1\n",
        "    x1 = (a+b-d_x)/2\n",
        "    x2 = (a+b+d_x)/2\n",
        "print('Точка мксимума = ', (a+b)/2, '| Её значение = ', F((a+b)/2))"
      ],
      "metadata": {
        "colab": {
          "base_uri": "https://localhost:8080/"
        },
        "id": "Qfe_YQHkMoD_",
        "outputId": "77d20a2f-656d-438a-8bcd-6e95cbcf898b"
      },
      "execution_count": 74,
      "outputs": [
        {
          "output_type": "stream",
          "name": "stdout",
          "text": [
            "Точка мксимума =  0.990234375 | Её значение =  4.999759241746325\n"
          ]
        }
      ]
    }
  ]
}