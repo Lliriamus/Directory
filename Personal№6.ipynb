{
  "nbformat": 4,
  "nbformat_minor": 0,
  "metadata": {
    "colab": {
      "name": "Personal№6.ipynb",
      "provenance": [],
      "authorship_tag": "ABX9TyNohuDcyfOTtZaNf1pTGpua",
      "include_colab_link": true
    },
    "kernelspec": {
      "name": "python3",
      "display_name": "Python 3"
    },
    "language_info": {
      "name": "python"
    }
  },
  "cells": [
    {
      "cell_type": "markdown",
      "metadata": {
        "id": "view-in-github",
        "colab_type": "text"
      },
      "source": [
        "<a href=\"https://colab.research.google.com/github/Lliriamus/Directory/blob/main/Personal%E2%84%966.ipynb\" target=\"_parent\"><img src=\"https://colab.research.google.com/assets/colab-badge.svg\" alt=\"Open In Colab\"/></a>"
      ]
    },
    {
      "cell_type": "code",
      "execution_count": null,
      "metadata": {
        "id": "moTmwcZG1A4t"
      },
      "outputs": [],
      "source": [
        "import matplotlib.pyplot as plt\n",
        "import numpy as np"
      ]
    },
    {
      "cell_type": "markdown",
      "source": [
        "Рассмотрим функцию"
      ],
      "metadata": {
        "id": "q-I4_hbI3g_A"
      }
    },
    {
      "cell_type": "code",
      "source": [
        "def F(x):\n",
        "  return 10*x /(1+x**2)"
      ],
      "metadata": {
        "id": "o7A7_OGh3m9N"
      },
      "execution_count": null,
      "outputs": []
    },
    {
      "cell_type": "markdown",
      "source": [
        "Создадим переменные x и y"
      ],
      "metadata": {
        "id": "ivse6jlb5Ab_"
      }
    },
    {
      "cell_type": "code",
      "source": [
        "a = 0\n",
        "b = 3\n",
        "x = np.linspace(a, b, 30)\n",
        "y = F(x)"
      ],
      "metadata": {
        "id": "lbKE0fGA38v1"
      },
      "execution_count": null,
      "outputs": []
    },
    {
      "cell_type": "markdown",
      "source": [
        "Построим график функции"
      ],
      "metadata": {
        "id": "sCzZqZAs5GSV"
      }
    },
    {
      "cell_type": "code",
      "source": [
        "fig = plt.figure()\n",
        "ax = fig.add_subplot(1, 1, 1)\n",
        "ax.plot(x, y)\n",
        "plt.show()"
      ],
      "metadata": {
        "colab": {
          "base_uri": "https://localhost:8080/",
          "height": 265
        },
        "id": "n-xCrXGM5GuV",
        "outputId": "635bc164-716e-4dcd-d579-928dd4ebed58"
      },
      "execution_count": null,
      "outputs": [
        {
          "output_type": "display_data",
          "data": {
            "text/plain": [
              "<Figure size 432x288 with 1 Axes>"
            ],
            "image/png": "[encoded data removed]"
          },
          "metadata": {
            "needs_background": "light"
          }
        }
      ]
    },
    {
      "cell_type": "markdown",
      "source": [
        "Найдём наибольшее и наименьшее значение функции на отрезке [0, 3]"
      ],
      "metadata": {
        "id": "Op4vsjGQ6fx5"
      }
    },
    {
      "cell_type": "code",
      "source": [
        "Max = max(y)\n",
        "Min = min(y)\n",
        "print(' Наибольшее значение =', Max, '\\n', 'Наименьшее значение = ', Min)"
      ],
      "metadata": {
        "colab": {
          "base_uri": "https://localhost:8080/"
        },
        "id": "0CnylkwI7K8R",
        "outputId": "59f49f6e-b7de-4db6-e07c-4909cd5da052"
      },
      "execution_count": null,
      "outputs": [
        {
          "output_type": "stream",
          "name": "stdout",
          "text": [
            " Наибольшее значение = 4.997128087306145 \n",
            " Наименьшее значение =  0.0\n"
          ]
        }
      ]
    }
  ]
}